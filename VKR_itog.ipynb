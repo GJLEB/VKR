{
 "cells": [
  {
   "cell_type": "code",
   "execution_count": 1,
   "metadata": {},
   "outputs": [
    {
     "name": "stderr",
     "output_type": "stream",
     "text": [
      "Using TensorFlow backend.\n"
     ]
    }
   ],
   "source": [
    "from sklearn import model_selection, preprocessing, linear_model, naive_bayes, metrics, svm\n",
    "from sklearn.feature_extraction.text import TfidfVectorizer, CountVectorizer\n",
    "from sklearn import decomposition, ensemble\n",
    "from sklearn.model_selection import train_test_split\n",
    "\n",
    "import pandas, xgboost, numpy, textblob, string, codecs\n",
    "from keras.preprocessing import text, sequence\n",
    "from keras import layers, models, optimizers\n",
    "import re\n",
    "from sklearn.feature_extraction.text import CountVectorizer\n",
    "from sklearn.feature_extraction.text import TfidfVectorizer\n",
    "from sklearn.ensemble import RandomForestClassifier, GradientBoostingClassifier, AdaBoostClassifier\n",
    "from sklearn.metrics import accuracy_score as asc\n",
    "from sklearn.linear_model import LogisticRegression\n",
    "from sklearn.neighbors import KNeighborsClassifier\n",
    "from sklearn.linear_model import LogisticRegression\n",
    "from sklearn.linear_model import SGDClassifier\n",
    "from sklearn.pipeline import Pipeline\n",
    "from sklearn.naive_bayes import MultinomialNB\n",
    "from sklearn.feature_extraction.text import TfidfTransformer\n",
    "from sklearn.pipeline import Pipeline\n",
    "from sklearn.metrics import precision_score\n",
    "from sklearn.metrics import classification_report\n",
    "from sklearn.metrics import precision_recall_fscore_support\n",
    "from sklearn.metrics import f1_score\n",
    "from sklearn.metrics import accuracy_score, confusion_matrix\n",
    "from sklearn.metrics import average_precision_score\n",
    "from collections import defaultdict\n",
    "import matplotlib.pylab as plt\n",
    "import datetime\n",
    "import numpy as np\n",
    "import tqdm"
   ]
  },
  {
   "cell_type": "code",
   "execution_count": 2,
   "metadata": {},
   "outputs": [],
   "source": [
    "file = codecs.open( \"SampleEng2learn_clear.txt\", \"r\", \"utf-8\" )\n",
    "learn = file.read()\n",
    "file .close()\n",
    "file = codecs.open( \"SampleEng2test_clear.txt\", \"r\", \"utf-8\" )\n",
    "test = file.read()\n",
    "file .close()"
   ]
  },
  {
   "cell_type": "code",
   "execution_count": 3,
   "metadata": {},
   "outputs": [],
   "source": [
    "def preprocess():\n",
    "    file = codecs.open( \"SampleEng2learn_clear.txt\", \"r\", \"utf-8\" )\n",
    "    learn = file.read()\n",
    "    file .close()\n",
    "    file = codecs.open( \"SampleEng2test_clear.txt\", \"r\", \"utf-8\" )\n",
    "    test = file.read()\n",
    "    file .close()\n",
    "    \n",
    "    \n",
    "    ids, texts, subj, ipv, grnti = [], [], [], [], []\n",
    "    for i, line in enumerate(learn.split(\"\\n\")):\n",
    "        content=line.split(\"\t\")\n",
    "        ids.append(content[0])\n",
    "        texts.append(content[1])\n",
    "        subj.append(content[2].split('\\\\')[0])\n",
    "        ipv.append(content[3].split('\\\\')[0])\n",
    "        grnti.append(content[4].split('\\\\')[0].split(\"\\r\")[0])        \n",
    "    ids_t_s, texts_t_s, subj_t_s, ipv_t_s, grnti_t_s = [], [], [], [], []\n",
    "    for i, line in enumerate(test.split(\"\\n\")):\n",
    "        content=line.split(\"\t\")\n",
    "        ids_t_s.append(content[0])\n",
    "        texts_t_s.append(content[1])\n",
    "        subj_t_s.append(content[2])\n",
    "        ipv_t_s.append(content[3])\n",
    "        grnti_t_s.append(content[4].split(\"\\r\")[0])\n",
    "        ids_t_h, texts_t_h, subj_t_h, ipv_t_h, grnti_t_h = [], [], [], [], []\n",
    "    for i, line in enumerate(test.split(\"\\n\")):\n",
    "        content=line.split(\"\t\")\n",
    "        ids_t_h.append(content[0])\n",
    "        texts_t_h.append(content[1])\n",
    "        subj_t_h.append(content[2].split('\\\\')[0])\n",
    "        ipv_t_h.append(content[3].split('\\\\')[0])\n",
    "        grnti_t_h.append(content[4].split('\\\\')[0].split(\"\\r\")[0])\n",
    "        \n",
    "    trainDF = pandas.DataFrame()\n",
    "    testDF_s = pandas.DataFrame()\n",
    "    testDF_h = pandas.DataFrame()\n",
    "    trainDF['ids'] = ids\n",
    "    trainDF['text'] = texts\n",
    "    trainDF['subj'] = subj\n",
    "    trainDF['ipv'] = ipv\n",
    "    trainDF['grnti'] = grnti\n",
    "    testDF_s['ids'] = ids_t_s\n",
    "    testDF_s['text'] = texts_t_s\n",
    "    testDF_s['subj'] = subj_t_s\n",
    "    testDF_s['ipv'] = ipv_t_s\n",
    "    testDF_s['grnti'] = grnti_t_s\n",
    "    testDF_h['ids'] = ids_t_h\n",
    "    testDF_h['text'] = texts_t_h\n",
    "    testDF_h['subj'] = subj_t_h\n",
    "    testDF_h['ipv'] = ipv_t_h\n",
    "    testDF_h['grnti'] = grnti_t_h\n",
    "\n",
    "    return trainDF,testDF_s,testDF_h\n",
    "\n",
    "    "
   ]
  },
  {
   "cell_type": "code",
   "execution_count": 4,
   "metadata": {},
   "outputs": [],
   "source": [
    "def choose():\n",
    "    #Вывод названий алгоритмов для выбора пользователем\n",
    "    print(' Выберите номера желаемых методов классификации','\\n',\"1- К-ближайших соседей(KNeighborsClassifier)\",'\\n','2- Логистическая регрессия(LogisticRegression)','\\n',\n",
    "    '3- Стохастический градиентный спуск (SGDClassifier)','\\n','4- Рандомный лес (RandomForestClassifier)','\\n',\n",
    "    '5- Мультиномиальный наивный байес (MultinomialNB)')\n",
    "    b=[]\n",
    "    r = [1,2,3,4,5]\n",
    "    #Цикл для выбора пользователем алгоритмов\n",
    "    while True:\n",
    "        try:\n",
    "            a = input()\n",
    "            if a == '':\n",
    "                break\n",
    "            elif int(a) not in r or int(a) in b:\n",
    "                print('Введите цифру, соответствующую алгоритму. Цифры не должны повторяться')\n",
    "            else:\n",
    "                b.append(int(a))\n",
    "        except ValueError:\n",
    "            print('Введите цифру')\n",
    "    return b"
   ]
  },
  {
   "cell_type": "code",
   "execution_count": 5,
   "metadata": {},
   "outputs": [],
   "source": [
    "#Функция обучения алгоримов \n",
    "def engine(string,trainDF,testDF):\n",
    "    learn={}\n",
    "    train={}\n",
    "    predictions={}\n",
    "\n",
    "\n",
    "    for i in tqdm.tqdm_notebook(string):\n",
    "        clf = list_of_algorithms_2[i]\n",
    "        text_clf = Pipeline([\n",
    "        ('vect', CountVectorizer()),\n",
    "        ('tfidf', TfidfTransformer()),\n",
    "        ('clf', clf)\n",
    "        ])\n",
    "        time=datetime.datetime.now()\n",
    "        text_clf.fit(trainDF['text'], trainDF['ipv'])\n",
    "        learn_t=datetime.datetime.now()\n",
    "        learn[list_of_algorithms_2[i]]=learn_t-time\n",
    "        predictions[list_of_algorithms_2[i]]=text_clf.predict(testDF['text'])\n",
    "        train[list_of_algorithms_2[i]]=datetime.datetime.now()-learn_t\n",
    "        \n",
    "    return predictions,learn,train"
   ]
  },
  {
   "cell_type": "code",
   "execution_count": 6,
   "metadata": {},
   "outputs": [],
   "source": [
    "def pri(predictions,testDF_s,testDF_h):\n",
    "    hard=[]\n",
    "    soft=[]\n",
    "    for p in predictions.values():\n",
    "        hard.append(np.mean(p == testDF_h['ipv']))   \n",
    "        correct=0\n",
    "        incorrect=0\n",
    "        for i,j in zip(p,testDF_s['ipv']):\n",
    "            if i in j:\n",
    "                correct+=1\n",
    "            else:\n",
    "                incorrect+=1\n",
    "        soft.append(correct/len(p))\n",
    "    return hard,soft "
   ]
  },
  {
   "cell_type": "code",
   "execution_count": 7,
   "metadata": {},
   "outputs": [],
   "source": [
    "def obr(string,testDF_h,predictions,learn,train):\n",
    "    m={}\n",
    "    for i in string:\n",
    "        lst=list(precision_recall_fscore_support(testDF_h[['ipv']], predictions[list_of_algorithms_2[i]],\\\n",
    "                                                 average='weighted'))\n",
    "        lst.append([learn[list_of_algorithms_2[i]],train[list_of_algorithms_2[i]]])\n",
    "        m[list_of_algorithms_2[i]]=lst\n",
    "        m_sort = sorted(m.items(), key=lambda a: a[1][2],reverse=True )\n",
    "    return m_sort\n"
   ]
  },
  {
   "cell_type": "code",
   "execution_count": 8,
   "metadata": {},
   "outputs": [],
   "source": [
    "def visualization(string,m,predictions):  \n",
    "    \n",
    "    X = []\n",
    "    m_new = []\n",
    "    for i in m:\n",
    "        m_new.append(i[1][2])\n",
    "    for i in range(len(m)):\n",
    "        X.append(i+1)\n",
    "    plt.bar(X, m_new,color='orange',xerr=0.55,ecolor='g')\n",
    "    plt.show()\n",
    "    c=1\n",
    "    for i in m:\n",
    "        print(c,' - ',i[0],\"\\n\",\"\\n\",\"Точность данного алгортима = \",i[1][0],\"\\n\",\"Полнота данного алгортима = \",i[1][1],'\\n',\n",
    "              \"Fмера данного алгортима = \",i[1][2],'\\n',\"Время обчения = \", i[1][4][0],'\\n',\"Время работы = \",i[1][4][1],'\\n')\n",
    "        c+=1\n",
    "        "
   ]
  },
  {
   "cell_type": "code",
   "execution_count": 9,
   "metadata": {},
   "outputs": [
    {
     "name": "stdout",
     "output_type": "stream",
     "text": [
      " Выберите номера желаемых методов классификации \n",
      " 1- К-ближайших соседей(KNeighborsClassifier) \n",
      " 2- Логистическая регрессия(LogisticRegression) \n",
      " 3- Стохастический градиентный спуск (SGDClassifier) \n",
      " 4- Рандомный лес (RandomForestClassifier) \n",
      " 5- Мультиномиальный наивный байес (MultinomialNB)\n",
      "5\n",
      "\n"
     ]
    },
    {
     "data": {
      "application/vnd.jupyter.widget-view+json": {
       "model_id": "499c995921fe4c84a6d2ca92132ee6dd",
       "version_major": 2,
       "version_minor": 0
      },
      "text/plain": [
       "HBox(children=(IntProgress(value=0, max=1), HTML(value='')))"
      ]
     },
     "metadata": {},
     "output_type": "display_data"
    },
    {
     "name": "stdout",
     "output_type": "stream",
     "text": [
      "\n"
     ]
    },
    {
     "name": "stderr",
     "output_type": "stream",
     "text": [
      "C:\\Users\\GJLEB\\Anaconda3\\lib\\site-packages\\sklearn\\metrics\\classification.py:1143: UndefinedMetricWarning: Precision and F-score are ill-defined and being set to 0.0 in labels with no predicted samples.\n",
      "  'precision', 'predicted', average, warn_for)\n"
     ]
    },
    {
     "data": {
      "image/png": "[encoded data removed]",
      "text/plain": [
       "<Figure size 432x288 with 1 Axes>"
      ]
     },
     "metadata": {
      "needs_background": "light"
     },
     "output_type": "display_data"
    },
    {
     "name": "stdout",
     "output_type": "stream",
     "text": [
      "1  -  MultinomialNB(alpha=1.0, class_prior=None, fit_prior=True) \n",
      " \n",
      " Точность данного алгортима =  0.43442679483900976 \n",
      " Полнота данного алгортима =  0.3528574790850932 \n",
      " Fмера данного алгортима =  0.2875980846264278 \n",
      " Время обчения =  0:00:36.021831 \n",
      " Время работы =  0:00:10.912955 \n",
      "\n"
     ]
    }
   ],
   "source": [
    "\n",
    "list_of_algorithms_2={\n",
    "                      1:KNeighborsClassifier(),2:LogisticRegression(),\n",
    "                      3:SGDClassifier(loss='hinge', penalty='l2',alpha=1e-3, random_state=42,max_iter=5, tol=None),\n",
    "                      4:RandomForestClassifier(),5:MultinomialNB()\n",
    "                     }\n",
    "#Запуск программы\n",
    "trainDF = pandas.DataFrame()\n",
    "testDF_s = pandas.DataFrame()\n",
    "testDF_h = pandas.DataFrame()\n",
    "trainDF,testDF_s,testDF_h = preprocess()\n",
    "\n",
    "algs = choose()\n",
    "\n",
    "#Запуск классификации\n",
    "predictions,learn,train = engine(algs,trainDF,testDF_s)\n",
    "\n",
    "\n",
    "\n",
    "\n",
    "#Проверка на значение, превышающее 1\n",
    "m= obr (algs,testDF_h,predictions,learn,train)\n",
    "\n",
    "\n",
    "visualization(algs,m,predictions)\n"
   ]
  },
  {
   "cell_type": "code",
   "execution_count": null,
   "metadata": {},
   "outputs": [],
   "source": []
  }
 ],
 "metadata": {
  "kernelspec": {
   "display_name": "Python 3",
   "language": "python",
   "name": "python3"
  },
  "language_info": {
   "codemirror_mode": {
    "name": "ipython",
    "version": 3
   },
   "file_extension": ".py",
   "mimetype": "text/x-python",
   "name": "python",
   "nbconvert_exporter": "python",
   "pygments_lexer": "ipython3",
   "version": "3.7.1"
  }
 },
 "nbformat": 4,
 "nbformat_minor": 2
}
