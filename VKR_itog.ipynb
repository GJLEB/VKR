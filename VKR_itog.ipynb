{
 "cells": [
  {
   "cell_type": "code",
   "execution_count": 1,
   "metadata": {},
   "outputs": [
    {
     "name": "stderr",
     "output_type": "stream",
     "text": [
      "Using TensorFlow backend.\n"
     ]
    }
   ],
   "source": [
    "from sklearn import model_selection, preprocessing, linear_model, naive_bayes, metrics, svm\n",
    "from sklearn.feature_extraction.text import TfidfVectorizer, CountVectorizer\n",
    "from sklearn import decomposition, ensemble\n",
    "from sklearn.model_selection import train_test_split\n",
    "\n",
    "import pandas, xgboost, numpy, textblob, string, codecs\n",
    "from keras.preprocessing import text, sequence\n",
    "from keras import layers, models, optimizers\n",
    "import re\n",
    "from sklearn.feature_extraction.text import CountVectorizer\n",
    "from sklearn.feature_extraction.text import TfidfVectorizer\n",
    "from sklearn.ensemble import RandomForestClassifier, GradientBoostingClassifier, AdaBoostClassifier\n",
    "from sklearn.metrics import accuracy_score as asc\n",
    "from sklearn.linear_model import LogisticRegression\n",
    "from sklearn.neighbors import KNeighborsClassifier\n",
    "from sklearn.linear_model import LogisticRegression\n",
    "from sklearn.linear_model import SGDClassifier\n",
    "from sklearn.pipeline import Pipeline\n",
    "from sklearn.naive_bayes import MultinomialNB\n",
    "from sklearn.feature_extraction.text import TfidfTransformer\n",
    "from sklearn.pipeline import Pipeline\n",
    "from sklearn.metrics import precision_score\n",
    "from sklearn.metrics import classification_report\n",
    "from sklearn.metrics import precision_recall_fscore_support\n",
    "from sklearn.metrics import f1_score\n",
    "from sklearn.metrics import accuracy_score, confusion_matrix\n",
    "from sklearn.metrics import average_precision_score\n",
    "from collections import defaultdict\n",
    "import matplotlib.pylab as plt\n",
    "import datetime\n",
    "import numpy as np\n",
    "import tqdm"
   ]
  },
  {
   "cell_type": "code",
   "execution_count": 2,
   "metadata": {},
   "outputs": [],
   "source": [
    "file = codecs.open( \"SampleEng2learn_clear.txt\", \"r\", \"utf-8\" )\n",
    "learn = file.read()\n",
    "file .close()\n",
    "file = codecs.open( \"SampleEng2test_clear.txt\", \"r\", \"utf-8\" )\n",
    "test = file.read()\n",
    "file .close()"
   ]
  },
  {
   "cell_type": "code",
   "execution_count": 3,
   "metadata": {},
   "outputs": [],
   "source": [
    "def preprocess():\n",
    "    file = codecs.open( \"SampleEng2learn_clear.txt\", \"r\", \"utf-8\" )\n",
    "    learn = file.read()\n",
    "    file .close()\n",
    "    file = codecs.open( \"SampleEng2test_clear.txt\", \"r\", \"utf-8\" )\n",
    "    test = file.read()\n",
    "    file .close()\n",
    "    \n",
    "    \n",
    "    ids, texts, subj, ipv, grnti = [], [], [], [], []\n",
    "    for i, line in enumerate(learn.split(\"\\n\")):\n",
    "        content=line.split(\"\t\")\n",
    "        ids.append(content[0])\n",
    "        texts.append(content[1])\n",
    "        subj.append(content[2].split('\\\\')[0])\n",
    "        ipv.append(content[3].split('\\\\')[0])\n",
    "        grnti.append(content[4].split('\\\\')[0].split(\"\\r\")[0])        \n",
    "    ids_t_s, texts_t_s, subj_t_s, ipv_t_s, grnti_t_s = [], [], [], [], []\n",
    "    for i, line in enumerate(test.split(\"\\n\")):\n",
    "        content=line.split(\"\t\")\n",
    "        ids_t_s.append(content[0])\n",
    "        texts_t_s.append(content[1])\n",
    "        subj_t_s.append(content[2])\n",
    "        ipv_t_s.append(content[3])\n",
    "        grnti_t_s.append(content[4].split(\"\\r\")[0])\n",
    "        ids_t_h, texts_t_h, subj_t_h, ipv_t_h, grnti_t_h = [], [], [], [], []\n",
    "    for i, line in enumerate(test.split(\"\\n\")):\n",
    "        content=line.split(\"\t\")\n",
    "        ids_t_h.append(content[0])\n",
    "        texts_t_h.append(content[1])\n",
    "        subj_t_h.append(content[2].split('\\\\')[0])\n",
    "        ipv_t_h.append(content[3].split('\\\\')[0])\n",
    "        grnti_t_h.append(content[4].split('\\\\')[0].split(\"\\r\")[0])\n",
    "        \n",
    "    trainDF = pandas.DataFrame()\n",
    "    testDF_s = pandas.DataFrame()\n",
    "    testDF_h = pandas.DataFrame()\n",
    "    trainDF['ids'] = ids\n",
    "    trainDF['text'] = texts\n",
    "    trainDF['subj'] = subj\n",
    "    trainDF['ipv'] = ipv\n",
    "    trainDF['grnti'] = grnti\n",
    "    testDF_s['ids'] = ids_t_s\n",
    "    testDF_s['text'] = texts_t_s\n",
    "    testDF_s['subj'] = subj_t_s\n",
    "    testDF_s['ipv'] = ipv_t_s\n",
    "    testDF_s['grnti'] = grnti_t_s\n",
    "    testDF_h['ids'] = ids_t_h\n",
    "    testDF_h['text'] = texts_t_h\n",
    "    testDF_h['subj'] = subj_t_h\n",
    "    testDF_h['ipv'] = ipv_t_h\n",
    "    testDF_h['grnti'] = grnti_t_h\n",
    "\n",
    "    return trainDF,testDF_s,testDF_h\n",
    "\n",
    "    "
   ]
  },
  {
   "cell_type": "code",
   "execution_count": 4,
   "metadata": {},
   "outputs": [],
   "source": [
    "def choose():\n",
    "    #Вывод названий алгоритмов для выбора пользователем\n",
    "    print(' Выберите номера желаемых методов классификации','\\n',\"1- К-ближайших соседей(KNeighborsClassifier)\",'\\n','2- Логистическая регрессия(LogisticRegression)','\\n',\n",
    "    '3- Стохастический градиентный спуск (SGDClassifier)','\\n','4- Рандомный лес (RandomForestClassifier)','\\n',\n",
    "    '5- Мультиномиальный наивный байес (MultinomialNB)')\n",
    "    b=[]\n",
    "    r = [1,2,3,4,5]\n",
    "    #Цикл для выбора пользователем алгоритмов\n",
    "    while True:\n",
    "        try:\n",
    "            a = input()\n",
    "            if a == '':\n",
    "                break\n",
    "            elif int(a) not in r or int(a) in b:\n",
    "                print('Введите цифру, соответствующую алгоритму. Цифры не должны повторяться')\n",
    "            else:\n",
    "                b.append(int(a))\n",
    "        except ValueError:\n",
    "            print('Введите цифру')\n",
    "    return b"
   ]
  },
  {
   "cell_type": "code",
   "execution_count": 5,
   "metadata": {},
   "outputs": [],
   "source": [
    "#Функция обучения алгоримов \n",
    "def engine(string,trainDF,testDF):\n",
    "    learn={}\n",
    "    train={}\n",
    "    predictions={}\n",
    "\n",
    "\n",
    "    for i in tqdm.tqdm_notebook(string):\n",
    "        clf = list_of_algorithms_2[i]\n",
    "        text_clf = Pipeline([\n",
    "        ('vect', CountVectorizer()),\n",
    "        ('tfidf', TfidfTransformer()),\n",
    "        ('clf', clf)\n",
    "        ])\n",
    "        time=datetime.datetime.now()\n",
    "        text_clf.fit(trainDF['text'], trainDF['ipv'])\n",
    "        learn_t=datetime.datetime.now()\n",
    "        learn[list_of_algorithms_2[i]]=learn_t-time\n",
    "        predictions[list_of_algorithms_2[i]]=text_clf.predict(testDF['text'])\n",
    "        train[list_of_algorithms_2[i]]=datetime.datetime.now()-learn_t\n",
    "        \n",
    "    return predictions,learn,train"
   ]
  },
  {
   "cell_type": "code",
   "execution_count": 6,
   "metadata": {},
   "outputs": [],
   "source": [
    "def pri(predictions,testDF_s,testDF_h):\n",
    "    hard=[]\n",
    "    soft=[]\n",
    "    for p in predictions.values():\n",
    "        hard.append(np.mean(p == testDF_h['ipv']))   \n",
    "        correct=0\n",
    "        incorrect=0\n",
    "        for i,j in zip(p,testDF_s['ipv']):\n",
    "            if i in j:\n",
    "                correct+=1\n",
    "            else:\n",
    "                incorrect+=1\n",
    "        soft.append(correct/len(p))\n",
    "    return hard,soft "
   ]
  },
  {
   "cell_type": "code",
   "execution_count": 7,
   "metadata": {},
   "outputs": [],
   "source": [
    "def obr(string,testDF_h,predictions,learn,train):\n",
    "    m={}\n",
    "    for i in string:\n",
    "        lst=list(precision_recall_fscore_support(testDF_h[['ipv']], predictions[list_of_algorithms_2[i]],\\\n",
    "                                                 average='weighted'))\n",
    "        lst.append([learn[list_of_algorithms_2[i]],train[list_of_algorithms_2[i]]])\n",
    "        m[list_of_algorithms_2[i]]=lst\n",
    "        m_sort = sorted(m.items(), key=lambda a: a[1][2],reverse=True )\n",
    "    return m_sort\n"
   ]
  },
  {
   "cell_type": "code",
   "execution_count": 8,
   "metadata": {},
   "outputs": [],
   "source": [
    "def visualization(string,m,predictions):  \n",
    "    \n",
    "    X = []\n",
    "    m_new = []\n",
    "    for i in m:\n",
    "        m_new.append(i[1][2])\n",
    "    for i in range(len(m)):\n",
    "        X.append(i+1)\n",
    "    plt.bar(X, m_new,color='orange',xerr=0.55,ecolor='g')\n",
    "    plt.show()\n",
    "    c=1\n",
    "    for i in m:\n",
    "        print(c,' - ',i[0],\"\\n\",\"\\n\",\"Точность данного алгортима = \",i[1][0],\"\\n\",\"Полнота данного алгортима = \",i[1][1],'\\n',\n",
    "              \"Fмера данного алгортима = \",i[1][2],'\\n',\"Время обчения = \", i[1][4][0],'\\n',\"Время работы = \",i[1][4][1],'\\n')\n",
    "        c+=1\n",
    "        "
   ]
  },
  {
   "cell_type": "code",
   "execution_count": 10,
   "metadata": {},
   "outputs": [
    {
     "name": "stdout",
     "output_type": "stream",
     "text": [
      " Выберите номера желаемых методов классификации \n",
      " 1- К-ближайших соседей(KNeighborsClassifier) \n",
      " 2- Логистическая регрессия(LogisticRegression) \n",
      " 3- Стохастический градиентный спуск (SGDClassifier) \n",
      " 4- Рандомный лес (RandomForestClassifier) \n",
      " 5- Мультиномиальный наивный байес (MultinomialNB)\n",
      "1\n",
      "2\n",
      "3\n",
      "4\n",
      "5\n",
      "\n"
     ]
    },
    {
     "data": {
      "application/vnd.jupyter.widget-view+json": {
       "model_id": "2e4c45c3d45e41db91814580370e5ee6",
       "version_major": 2,
       "version_minor": 0
      },
      "text/plain": [
       "HBox(children=(IntProgress(value=0, max=5), HTML(value='')))"
      ]
     },
     "metadata": {},
     "output_type": "display_data"
    },
    {
     "name": "stderr",
     "output_type": "stream",
     "text": [
      "C:\\Users\\GJLEB\\Anaconda3\\lib\\site-packages\\sklearn\\linear_model\\logistic.py:433: FutureWarning: Default solver will be changed to 'lbfgs' in 0.22. Specify a solver to silence this warning.\n",
      "  FutureWarning)\n",
      "C:\\Users\\GJLEB\\Anaconda3\\lib\\site-packages\\sklearn\\linear_model\\logistic.py:460: FutureWarning: Default multi_class will be changed to 'auto' in 0.22. Specify the multi_class option to silence this warning.\n",
      "  \"this warning.\", FutureWarning)\n",
      "C:\\Users\\GJLEB\\Anaconda3\\lib\\site-packages\\sklearn\\linear_model\\stochastic_gradient.py:183: FutureWarning: max_iter and tol parameters have been added in SGDClassifier in 0.19. If max_iter is set but tol is left unset, the default value for tol in 0.19 and 0.20 will be None (which is equivalent to -infinity, so it has no effect) but will change in 0.21 to 1e-3. Specify tol to silence this warning.\n",
      "  FutureWarning)\n",
      "C:\\Users\\GJLEB\\Anaconda3\\lib\\site-packages\\sklearn\\ensemble\\forest.py:246: FutureWarning: The default value of n_estimators will change from 10 in version 0.20 to 100 in 0.22.\n",
      "  \"10 in version 0.20 to 100 in 0.22.\", FutureWarning)\n"
     ]
    },
    {
     "name": "stdout",
     "output_type": "stream",
     "text": [
      "\n"
     ]
    },
    {
     "name": "stderr",
     "output_type": "stream",
     "text": [
      "C:\\Users\\GJLEB\\Anaconda3\\lib\\site-packages\\sklearn\\metrics\\classification.py:1143: UndefinedMetricWarning: Precision and F-score are ill-defined and being set to 0.0 in labels with no predicted samples.\n",
      "  'precision', 'predicted', average, warn_for)\n",
      "C:\\Users\\GJLEB\\Anaconda3\\lib\\site-packages\\sklearn\\metrics\\classification.py:1145: UndefinedMetricWarning: Recall and F-score are ill-defined and being set to 0.0 in labels with no true samples.\n",
      "  'recall', 'true', average, warn_for)\n"
     ]
    },
    {
     "data": {
      "image/png": "[encoded data removed]",
      "text/plain": [
       "<Figure size 432x288 with 1 Axes>"
      ]
     },
     "metadata": {
      "needs_background": "light"
     },
     "output_type": "display_data"
    },
    {
     "name": "stdout",
     "output_type": "stream",
     "text": [
      "1  -  LogisticRegression(C=1.0, class_weight=None, dual=False, fit_intercept=True,\n",
      "          intercept_scaling=1, max_iter=100, multi_class='warn',\n",
      "          n_jobs=None, penalty='l2', random_state=None, solver='warn',\n",
      "          tol=0.0001, verbose=0, warm_start=False) \n",
      " \n",
      " Точность данного алгортима =  0.6194394702387445 \n",
      " Полнота данного алгортима =  0.6106938827909365 \n",
      " Fмера данного алгортима =  0.5962505071875072 \n",
      " Время обчения =  0:27:05.591573 \n",
      " Время работы =  0:00:10.932973 \n",
      "\n",
      "2  -  SGDClassifier(alpha=0.001, average=False, class_weight=None,\n",
      "       early_stopping=False, epsilon=0.1, eta0=0.0, fit_intercept=True,\n",
      "       l1_ratio=0.15, learning_rate='optimal', loss='hinge', max_iter=5,\n",
      "       n_iter=None, n_iter_no_change=5, n_jobs=None, penalty='l2',\n",
      "       power_t=0.5, random_state=42, shuffle=True, tol=None,\n",
      "       validation_fraction=0.1, verbose=0, warm_start=False) \n",
      " \n",
      " Точность данного алгортима =  0.5735148492174482 \n",
      " Полнота данного алгортима =  0.5672058540342769 \n",
      " Fмера данного алгортима =  0.5424098729865944 \n",
      " Время обчения =  0:02:15.105153 \n",
      " Время работы =  0:00:11.040062 \n",
      "\n",
      "3  -  KNeighborsClassifier(algorithm='auto', leaf_size=30, metric='minkowski',\n",
      "           metric_params=None, n_jobs=None, n_neighbors=5, p=2,\n",
      "           weights='uniform') \n",
      " \n",
      " Точность данного алгортима =  0.4960433483394369 \n",
      " Полнота данного алгортима =  0.4788283372916533 \n",
      " Fмера данного алгортима =  0.4763389450023532 \n",
      " Время обчения =  0:00:36.195737 \n",
      " Время работы =  0:23:45.953412 \n",
      "\n",
      "4  -  RandomForestClassifier(bootstrap=True, class_weight=None, criterion='gini',\n",
      "            max_depth=None, max_features='auto', max_leaf_nodes=None,\n",
      "            min_impurity_decrease=0.0, min_impurity_split=None,\n",
      "            min_samples_leaf=1, min_samples_split=2,\n",
      "            min_weight_fraction_leaf=0.0, n_estimators=10, n_jobs=None,\n",
      "            oob_score=False, random_state=None, verbose=0,\n",
      "            warm_start=False) \n",
      " \n",
      " Точность данного алгортима =  0.43721477481409543 \n",
      " Полнота данного алгортима =  0.40539615294092474 \n",
      " Fмера данного алгортима =  0.3933371468890344 \n",
      " Время обчения =  0:08:01.793111 \n",
      " Время работы =  0:00:12.078007 \n",
      "\n",
      "5  -  MultinomialNB(alpha=1.0, class_prior=None, fit_prior=True) \n",
      " \n",
      " Точность данного алгортима =  0.43442679483900976 \n",
      " Полнота данного алгортима =  0.3528574790850932 \n",
      " Fмера данного алгортима =  0.2875980846264278 \n",
      " Время обчения =  0:00:36.067873 \n",
      " Время работы =  0:00:10.925958 \n",
      "\n"
     ]
    }
   ],
   "source": [
    "\n",
    "list_of_algorithms_2={\n",
    "                      1:KNeighborsClassifier(),2:LogisticRegression(),\n",
    "                      3:SGDClassifier(loss='hinge', penalty='l2',alpha=1e-3, random_state=42,max_iter=5, tol=None),\n",
    "                      4:RandomForestClassifier(),5:MultinomialNB()\n",
    "                     }\n",
    "#Запуск программы\n",
    "trainDF = pandas.DataFrame()\n",
    "testDF_s = pandas.DataFrame()\n",
    "testDF_h = pandas.DataFrame()\n",
    "trainDF,testDF_s,testDF_h = preprocess()\n",
    "\n",
    "algs = choose()\n",
    "\n",
    "#Запуск классификации\n",
    "predictions,learn,train = engine(algs,trainDF,testDF_s)\n",
    "\n",
    "\n",
    "\n",
    "\n",
    "#Проверка на значение, превышающее 1\n",
    "m= obr (algs,testDF_h,predictions,learn,train)\n",
    "\n",
    "\n",
    "visualization(algs,m,predictions)\n"
   ]
  },
  {
   "cell_type": "code",
   "execution_count": null,
   "metadata": {},
   "outputs": [],
   "source": []
  }
 ],
 "metadata": {
  "kernelspec": {
   "display_name": "Python 3",
   "language": "python",
   "name": "python3"
  },
  "language_info": {
   "codemirror_mode": {
    "name": "ipython",
    "version": 3
   },
   "file_extension": ".py",
   "mimetype": "text/x-python",
   "name": "python",
   "nbconvert_exporter": "python",
   "pygments_lexer": "ipython3",
   "version": "3.7.1"
  }
 },
 "nbformat": 4,
 "nbformat_minor": 2
}
